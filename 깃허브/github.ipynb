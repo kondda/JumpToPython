{
 "cells": [
  {
   "cell_type": "markdown",
   "metadata": {},
   "source": [
    "> 깃허브 원격 저장소 만들기"
   ]
  },
  {
   "cell_type": "code",
   "execution_count": null,
   "metadata": {},
   "outputs": [],
   "source": [
    "\"\"\"\n",
    "1. 깃허브에 로그인한 후 화면 상단 오른쪽 [+]를 누르고   \n",
    "    [New repository]를 선택\n",
    "2. 저장소 이름을 비롯해서 필요한 항목을 기입[Create repository]\n",
    "3. 저장소를 만들었다면 화면에 나타난 HTTPS 주소를 사용해 언제든지\n",
    "    깃허브 저장소에 접속, 파일을 올릴 수도 있다. 즉 저장소 주소만 알고\n",
    "    있다면 어디에서든 지역 저장소를 백업하거나 다른 사람과 협업 가능하다.\n",
    "\n",
    "    HTTPS로 접속하는 주소는 다음고 같은 형태이다.\n",
    "    https://github.com/아이디/저장소이름\n",
    "\n",
    "    예) HTTPS|SSH https://github.com/narospace/test-1.git\n",
    "\"\"\""
   ]
  },
  {
   "cell_type": "markdown",
   "metadata": {},
   "source": [
    "> 원격 저장소 가져오기"
   ]
  },
  {
   "cell_type": "code",
   "execution_count": null,
   "metadata": {},
   "outputs": [],
   "source": [
    "\"\"\"\n",
    "1. 원격저장소(github)의 저장소로부터 주소(url) 복사\n",
    "2. 원격 저장소를 로컬PC에 저장할 경로에서 마우스 오른 버튼 'Git Bash Here' 클릭\n",
    "    $ git clone https://github.com/저장소.git\n",
    "3. Git Bash에서... 확인\n",
    "    $ cd 로컬저장소경로/\n",
    "    PC계정이름 MINGW64 /저장소 경로 (main)\n",
    "    $ ls\n",
    "    README.md\n",
    "\n",
    "4.  PC계정이름 MINGW64 /저장소 경로 (main)\n",
    "    $ git remote -v\n",
    "    origin  https://github.com/narospace/IntroducingPython.git (fetch)\n",
    "    origin  https://github.com/narospace/IntroducingPython.git (push)\n",
    "    만약 위와 같은 설정 정보가 출력이 안된다면 아래의 깃 환경설정 참조\n",
    "\"\"\""
   ]
  },
  {
   "cell_type": "markdown",
   "metadata": {},
   "source": [
    "> 깃 환경설정하기"
   ]
  },
  {
   "cell_type": "code",
   "execution_count": null,
   "metadata": {},
   "outputs": [],
   "source": [
    "\"\"\"\n",
    "해당 로컬 저장소(폴더)의 Git Bash 에서.....\n",
    "\n",
    "1.  설정정보 확인\n",
    "\n",
    "    $ git config -l    \n",
    "    ...\n",
    "    예시) \n",
    "    user.name=bitcamp\n",
    "    user.email=call1212@narospace.com\n",
    "    remote.origin.url=https://github.com/narospace/IntroducingPython.git\n",
    "    ...\n",
    "    위의 세가지 항목 중 출력되는 항목이 없다면 아래와 같이 설정\n",
    "\n",
    "2.  설정정보 입력\n",
    "\n",
    "    $ git config --global user.name \"이름 식별자\"\n",
    "    $ git config --global user.email \"본인 깃허브 등록 이메일 계정\"\n",
    "\n",
    "    깃허브 원격 저장소(origin) 연결 설정\n",
    "    $ git remote add origin \"원격 저장소 주소\"\n",
    "\n",
    "    $ git remote -v\n",
    "    origin  https://github.com/narospace/IntroducingPython.git (fetch)\n",
    "    origin  https://github.com/narospace/IntroducingPython.git (push)\n",
    "\n",
    "\"\"\""
   ]
  },
  {
   "cell_type": "markdown",
   "metadata": {},
   "source": [
    "> 깃 스테이징 및 커밋"
   ]
  },
  {
   "cell_type": "code",
   "execution_count": null,
   "metadata": {},
   "outputs": [],
   "source": [
    "\"\"\"\n",
    "1) 로컬 저장소 생성하기\n",
    "원격저장소(깃허브)에서 clone 또는 pull 명령으로 내려받는게 아니고 \n",
    "최초로 로컬(PC) 저장소를 만들려면 버전관리 대상 폴더에 소스를 추가하고\n",
    "\n",
    "git init\n",
    "\n",
    "명령을 실행하면 .git 이라는 숨김폴더가 생성되어 버전관리 저장소가 만들어진다.\n",
    "\n",
    "\n",
    "2) 버전 생성하기\n",
    "최초 또는 소스를 수정한 경우 새로운 버전 만들기\n",
    "\n",
    "0. git status : 소스의 변경/생성 여부 파악하기\n",
    "1. git add .  : 버전관리 대상 소스 스테이징 처리(특정 파일명을 적거나 '.'은 모든 파일 )\n",
    "2. git commit -m \"message\" : 커밋 메시지 작성하여 커밋(새로운 버전 생성)\n",
    "3. git log --oneline --branches --graph : 버전 이력 보기('--???'은 옵션)\n",
    "0. git status : 버전 생성 이후 상태는 clean 상태인지 확인\n",
    "\"\"\""
   ]
  },
  {
   "cell_type": "markdown",
   "metadata": {},
   "source": [
    "> 깃 푸시(push) & 풀(pull)"
   ]
  },
  {
   "cell_type": "code",
   "execution_count": null,
   "metadata": {},
   "outputs": [],
   "source": [
    "\"\"\"\n",
    "1. 원격 저장소(origin)로부터 내려(download)받기 \n",
    "    git pull origin main\n",
    "\n",
    "2. 원격 저장소(origin)에 올리기(upload) \n",
    "    git push origin main\n",
    "    또는\n",
    "    git push origin master\n",
    "\n",
    "\"main\"은 로컬저장소의 브랜치 이름으로 최초 로컬저장소에서 \n",
    " git init으로 생성한 저장소를 원격저장소와 연동한 경우\n",
    "\"master\"로 설정된다.\n",
    " 따라서 git Bash 프롬프트에 보여지는 브랜치 이름을 적어주면 된다.\n",
    "\n",
    " 3. 작업 순서 예\n",
    "    먼저 원격 저장소와 로컬 저장소의 버전이 일치하는지 확인해야한다. \n",
    "    일치하지 않은 경우는 항상\n",
    "    git pull 먼저 실행\n",
    "    그 다음 소스 수정이 되면\n",
    "    git add--->git commit 과정을 거쳐 새로운 버전을 만들고\n",
    "    원격 저장소에\n",
    "    git push 한다.\n",
    "\"\"\"\n"
   ]
  }
 ],
 "metadata": {
  "language_info": {
   "name": "python"
  },
  "orig_nbformat": 4
 },
 "nbformat": 4,
 "nbformat_minor": 2
}
