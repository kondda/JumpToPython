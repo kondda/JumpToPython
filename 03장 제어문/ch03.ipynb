{
 "cells": [
  {
   "cell_type": "markdown",
   "metadata": {},
   "source": [
    "#### 점프투파이썬\n",
    "---\n",
    "03장 연습문제"
   ]
  },
  {
   "cell_type": "markdown",
   "metadata": {},
   "source": [
    "> Q1\n",
    "``` py\n",
    "    다음 코드의 결괏값은 무엇일까?\n",
    "\n",
    "    a = \"Life is too short, you need python\"\n",
    "\n",
    "    if \"wife\" in a: print(\"wife\")\n",
    "    elif \"python\" in a and \"you\" not in a: print(\"python\")\n",
    "    elif \"shirt\" not in a: print(\"shirt\")\n",
    "    elif \"need\" in a: print(\"need\")\n",
    "    else: print(\"none\")\n",
    "```"
   ]
  },
  {
   "cell_type": "code",
   "execution_count": 1,
   "metadata": {},
   "outputs": [
    {
     "name": "stdout",
     "output_type": "stream",
     "text": [
      "shirt\n"
     ]
    }
   ],
   "source": [
    "a = \"Life is too short, you need python\"\n",
    "\n",
    "if \"wife\" in a: \n",
    "    print(\"wife\")\n",
    "elif \"python\" in a and \"you\" not in a: \n",
    "    print(\"python\")\n",
    "elif \"shirt\" not in a: \n",
    "    print(\"shirt\")\n",
    "elif \"need\" in a: \n",
    "    print(\"need\")\n",
    "else: \n",
    "    print(\"none\")"
   ]
  },
  {
   "cell_type": "markdown",
   "metadata": {},
   "source": [
    "> Q2\n",
    "``` py\n",
    "    while문을 사용해 1부터 1000까지의 자연수 중 3의 배수의 합을 구해 보자.\n",
    "```"
   ]
  },
  {
   "cell_type": "code",
   "execution_count": 63,
   "metadata": {},
   "outputs": [
    {
     "name": "stdout",
     "output_type": "stream",
     "text": [
      "1~1000까지 자연수 중 3의 배수의 합은 166833입니다.\n"
     ]
    }
   ],
   "source": [
    "# 3의 배수? : 3n + 0\n",
    "# [3, 6, 9, 13, 15, 18, 21, ...... 999]\n",
    "\n",
    "li3 = [i for i in range(1, 1000 + 1) if i % 3 == 0]\n",
    "print(f\"1~1000까지 자연수 중 3의 배수의 합은 {sum(li3)}입니다.\")\n",
    "\n",
    "# number = 1\n",
    "# total = 0\n",
    "# MUL = 3\n",
    "# while number <= 1000:\n",
    "#     if number % MUL == 0:\n",
    "#         total += number\n",
    "#     number += 1\n",
    "# print(f\"1~1000까지 자연수 중 {MUL}의 배수의 합은 {total}입니다.\")"
   ]
  },
  {
   "cell_type": "markdown",
   "metadata": {},
   "source": [
    "> Q3\n",
    "``` py\n",
    "    while문을 사용하여 다음과 같이 별(*)을 표시하는 프로그램을 작성해 보자.\n",
    "\n",
    "    *\n",
    "    **\n",
    "    ***\n",
    "    ****\n",
    "    *****\n",
    "```"
   ]
  },
  {
   "cell_type": "code",
   "execution_count": 94,
   "metadata": {},
   "outputs": [
    {
     "name": "stdout",
     "output_type": "stream",
     "text": [
      "*\n",
      "**\n",
      "***\n",
      "****\n",
      "*****\n"
     ]
    }
   ],
   "source": [
    "i = 0\n",
    "# while i < 5:\n",
    "#     # print('*' * (i + 1))\n",
    "#     i += 1\n",
    "#     print('*' * i)\n",
    "\n",
    "while True:\n",
    "    i += 1\n",
    "    if i > 5: break\n",
    "    print('*' * i)"
   ]
  },
  {
   "cell_type": "markdown",
   "metadata": {},
   "source": [
    "> Q4\n",
    "```\n",
    "    for문을 사용해 1부터 100까지의 숫자를 출력해 보자.\n",
    "```"
   ]
  },
  {
   "cell_type": "code",
   "execution_count": 105,
   "metadata": {},
   "outputs": [
    {
     "name": "stdout",
     "output_type": "stream",
     "text": [
      "1 2 3 4 5 6 7 8 9 10 11 12 13 14 15 16 17 18 19 20 21 22 23 24 25 26 27 28 29 30 31 32 33 34 35 36 37 38 39 40 41 42 43 44 45 46 47 48 49 50 51 52 53 54 55 56 57 58 59 60 61 62 63 64 65 66 67 68 69 70 71 72 73 74 75 76 77 78 79 80 81 82 83 84 85 86 87 88 89 90 91 92 93 94 95 96 97 98 99 100 "
     ]
    }
   ],
   "source": [
    "# for i in range(100):\n",
    "#     print(i + 1, end=' ')\n",
    "\n",
    "# for i in range(1, 100 + 1):\n",
    "#     print(i, end=', ')\n",
    "\n",
    "for i in [i + 1 for i in range(100)]:\n",
    "    print(i, end=' ')"
   ]
  },
  {
   "cell_type": "markdown",
   "metadata": {},
   "source": [
    "> Q5\n",
    "``` py\n",
    "    A 학급에 총 10명의 학생이 있다. 이 학생들의 중간고사 점수는 다음과 같다.\n",
    "    [70, 60, 55, 75, 95, 90, 80, 80, 85, 100]\n",
    "    for문을 사용하여 A 학급의 평균 점수를 구해 보자.\n",
    "```"
   ]
  },
  {
   "cell_type": "code",
   "execution_count": 110,
   "metadata": {},
   "outputs": [
    {
     "name": "stdout",
     "output_type": "stream",
     "text": [
      "학생수 = 10\n",
      "총  점 =  790\n",
      "평  균 =  79.0\n"
     ]
    }
   ],
   "source": [
    "# avg = total / len(list)\n",
    "li = [70, 60, 55, 75, 95, 90, 80, 80, 85, 100]\n",
    "\n",
    "# total = sum(li)\n",
    "total = 0\n",
    "for i in li:\n",
    "    total += i\n",
    "    \n",
    "avg = total / len(li)\n",
    "\n",
    "print(\"학생수 =\", len(li))\n",
    "print(\"총  점 = \", total)\n",
    "print(\"평  균 = \", avg)"
   ]
  },
  {
   "cell_type": "markdown",
   "metadata": {},
   "source": [
    "> Q6\n",
    "``` py\n",
    "    리스트 중에서 홀수에만 2를 곱하여 저장하는 다음 코드가 있다.\n",
    "\n",
    "    numbers = [1, 2, 3, 4, 5]\n",
    "    result = []\n",
    "    for n in numbers:\n",
    "        if n % 2 == 1:\n",
    "            result.append(n*2)\n",
    "    위 코드를 리스트 내포(list comprehension)를 사용하여 표현해 보자.\n",
    "```"
   ]
  },
  {
   "cell_type": "code",
   "execution_count": 120,
   "metadata": {},
   "outputs": [
    {
     "name": "stdout",
     "output_type": "stream",
     "text": [
      "[1, 2, 3, 4, 5]\n",
      "[2, 6, 10]\n"
     ]
    }
   ],
   "source": [
    "numbers = [1, 2, 3, 4, 5]\n",
    "# result = []\n",
    "# for n in numbers:\n",
    "#     if n % 2 == 1:\n",
    "#         result.append(n*2)\n",
    "\n",
    "# result = [n for n in numbers if n % 2 == 1]        \n",
    "result = [n * 2 for n in numbers if n % 2 == 1]        \n",
    "\n",
    "print(numbers)\n",
    "print(result)"
   ]
  }
 ],
 "metadata": {
  "interpreter": {
   "hash": "4aa7a001941c8b447200068b1d71a3924cf04f02fe096f0aa27a7230a4a7f943"
  },
  "kernelspec": {
   "display_name": "Python 3.10.1 64-bit",
   "language": "python",
   "name": "python3"
  },
  "language_info": {
   "codemirror_mode": {
    "name": "ipython",
    "version": 3
   },
   "file_extension": ".py",
   "mimetype": "text/x-python",
   "name": "python",
   "nbconvert_exporter": "python",
   "pygments_lexer": "ipython3",
   "version": "3.10.1"
  },
  "orig_nbformat": 4
 },
 "nbformat": 4,
 "nbformat_minor": 2
}
