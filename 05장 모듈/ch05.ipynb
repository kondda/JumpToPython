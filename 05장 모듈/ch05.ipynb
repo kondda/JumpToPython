{
 "cells": [
  {
   "cell_type": "markdown",
   "metadata": {},
   "source": [
    "#### 점프투파이썬\n",
    "---\n",
    "05장 연습문제"
   ]
  },
  {
   "cell_type": "markdown",
   "metadata": {},
   "source": [
    "\n",
    "> Q1\n",
    "``` py\n",
    "    다음은 Calculator 클래스이다.\n",
    "\n",
    "    class Calculator:\n",
    "        def __init__(self):\n",
    "            self.value = 0\n",
    "\n",
    "        def add(self, val):\n",
    "            self.value += val\n",
    "    위 클래스를 상속하는 UpgradeCalculator를 만들고 값을 뺄 수 있는 minus 메서드를 추가해 보자. \n",
    "    즉 다음과 같이 동작하는 클래스를 만들어야 한다.\n",
    "\n",
    "    cal = UpgradeCalculator()\n",
    "    cal.add(10)\n",
    "    cal.minus(7)\n",
    "\n",
    "    print(cal.value) # 10에서 7을 뺀 3을 출력\n",
    "```"
   ]
  },
  {
   "cell_type": "code",
   "execution_count": 7,
   "metadata": {},
   "outputs": [
    {
     "name": "stdout",
     "output_type": "stream",
     "text": [
      "add(10) : 10\n",
      "minus(7): 3\n"
     ]
    }
   ],
   "source": [
    "class Calculator:\n",
    "    def __init__(self):\n",
    "        self.value = 0\n",
    "\n",
    "    def add(self, val):\n",
    "        self.value += val\n",
    "        \n",
    "# 부모(기반) 클래스의 기능 확장\n",
    "class UpgradeCalculator(Calculator):\n",
    "    def minus(self, val):\n",
    "        self.value -= val\n",
    "\n",
    "cal = UpgradeCalculator()\n",
    "\n",
    "cal.add(10)\n",
    "print(\"add(10) :\", cal.value)\n",
    "\n",
    "cal.minus(7)\n",
    "print(\"minus(7):\", cal.value)"
   ]
  },
  {
   "cell_type": "markdown",
   "metadata": {},
   "source": [
    "> Q2\n",
    "``` py\n",
    "    객체변수 value가 100 이상의 값은 가질 수 없도록 제한하는 MaxLimitCalculator 클래스를 만들어 보자. \n",
    "    즉 다음과 같이 동작해야 한다.\n",
    "\n",
    "    cal = MaxLimitCalculator()\n",
    "    cal.add(50) # 50 더하기\n",
    "    cal.add(60) # 60 더하기\n",
    "\n",
    "    print(cal.value) # 100 출력\n",
    "    단 반드시 다음과 같은 Calculator 클래스를 상속해서 만들어야 한다.\n",
    "\n",
    "    class Calculator:\n",
    "        def __init__(self):\n",
    "            self.value = 0\n",
    "\n",
    "        def add(self, val):\n",
    "            self.value += val\n",
    "```"
   ]
  },
  {
   "cell_type": "code",
   "execution_count": 40,
   "metadata": {},
   "outputs": [
    {
     "data": {
      "text/plain": [
       "100"
      ]
     },
     "execution_count": 40,
     "metadata": {},
     "output_type": "execute_result"
    }
   ],
   "source": [
    "# 부모(기반) 클래스의 기능을 자식(파생)클래스에서 재정의(overriding)\n",
    "class MaxLimitCalculator(Calculator):\n",
    "    def add(self, val):\n",
    "        self.value += val\n",
    "        if self.value >= 100:\n",
    "            self.value = 100\n",
    "\n",
    "newcalc = MaxLimitCalculator()\n",
    "# 자식(파생)클래스에서 정의한 add()메서드 호출\n",
    "newcalc.add(70)\n",
    "newcalc.add(1000)\n",
    "newcalc.value"
   ]
  },
  {
   "cell_type": "markdown",
   "metadata": {},
   "source": [
    "> Q3\n",
    "``` py\n",
    "    다음 결과를 예측해 보자.\n",
    "    하나.\n",
    "    >>> all([1, 2, abs(-3)-3])\n",
    "    둘.\n",
    "    >>> chr(ord('a')) == 'a'\n",
    "```"
   ]
  },
  {
   "cell_type": "code",
   "execution_count": 95,
   "metadata": {},
   "outputs": [
    {
     "data": {
      "text/plain": [
       "True"
      ]
     },
     "execution_count": 95,
     "metadata": {},
     "output_type": "execute_result"
    }
   ],
   "source": [
    "all([9, 2, 1])\n",
    "all(['s', 'b', ''])\n",
    "all([]) # False 요소가 없으면 True\n",
    "\n",
    "all([1, 2, 0])\n",
    "\n",
    "# 문자셋(chracter-set : utf-8, EUC-KR...)\n",
    "\n",
    "# 인코딩: ord() \n",
    "ord('A')\n",
    "hex(ord('한'))\n",
    "bin(ord('a'))\n",
    "\n",
    "# 디코딩: chr()\n",
    "chr(ord('A') + 1)\n",
    "\n",
    "ord('a')\n",
    "chr(97) == 'a'"
   ]
  },
  {
   "cell_type": "markdown",
   "metadata": {},
   "source": [
    "> Q4\n",
    " ``` py\n",
    "   filter와 lambda를 사용하여 리스트 [1, -2, 3, -5, 8, -3]에서 음수를 모두 제거해 보자.\n",
    " ```"
   ]
  },
  {
   "cell_type": "code",
   "execution_count": 114,
   "metadata": {},
   "outputs": [
    {
     "name": "stdout",
     "output_type": "stream",
     "text": [
      "<map object at 0x00000261F4C1F9A0>\n",
      "[1, -2, 3, -5, 8, -3]\n",
      "1, 4, 9, 25, 64, 9, \n",
      "\n",
      "<filter object at 0x00000261F4C1EF80>\n",
      "1, 3, 8, \n",
      "\n",
      "li= [1, -2, 3, -5, 8, -3]\n",
      "li= [1, 3, 8]\n"
     ]
    }
   ],
   "source": [
    "li = [1, -2, 3, -5, 8, -3]\n",
    "\n",
    "# class map(func, 반복객체)\n",
    "# class filter(func, 반복객체)\n",
    "\n",
    "obj_m = map(lambda x : x**2, li) # 반복객체와 매핑된 함수의 실행(결과) \n",
    "print(obj_m)\n",
    "print(li)\n",
    "for i in obj_m:\n",
    "    print(i, end=', ')\n",
    "print(); print()\n",
    "\n",
    "obj_f = filter(lambda y : y > 0 , li) # 반복객체와 매핑된 함수의 실행(조건:필터링)\n",
    "print(obj_f)\n",
    "for i in obj_f:\n",
    "    print(i, end=', ')\n",
    "print(); print()\n",
    "\n",
    "print(\"li=\", li)\n",
    "li = list(filter(lambda y : y > 0 , li))\n",
    "print(\"li=\", li)\n"
   ]
  },
  {
   "cell_type": "markdown",
   "metadata": {},
   "source": [
    "> Q5\n",
    "``` py\n",
    "    234라는 10진수의 16진수는 다음과 같이 구할 수 있다.\n",
    "    >>> hex(234)\n",
    "    '0xea'\n",
    "    이번에는 반대로 16진수 문자열 0xea를 10진수로 변경해 보자.\n",
    "    ※ 내장 함수 int를 활용해 보자.\n",
    "```"
   ]
  },
  {
   "cell_type": "code",
   "execution_count": 170,
   "metadata": {},
   "outputs": [
    {
     "data": {
      "text/plain": [
       "255"
      ]
     },
     "execution_count": 170,
     "metadata": {},
     "output_type": "execute_result"
    }
   ],
   "source": [
    "hex(234)\n",
    "bin(0xa)\n",
    "int(0b1010)\n",
    "\n",
    "int(0xea)\n",
    "int('0b11111111', 2) #  2진수\n",
    "int('0xff', 16)      # 16진수\n",
    "int('0o377', 8)      #  8진수"
   ]
  },
  {
   "cell_type": "markdown",
   "metadata": {},
   "source": [
    "> Q6\n",
    "``` py\n",
    "  map과 lambda를 사용하여 [1, 2, 3, 4] 리스트의 각 요솟값에 3이 곱해진 리스트 [3, 6, 9, 12]를 만들어 보자.\n",
    "```"
   ]
  },
  {
   "cell_type": "code",
   "execution_count": 385,
   "metadata": {},
   "outputs": [
    {
     "name": "stdout",
     "output_type": "stream",
     "text": [
      "결과: [3, 6, 9, 12]\n"
     ]
    }
   ],
   "source": [
    "map_obj = map(lambda n : 3 * n, [1, 2, 3, 4])\n",
    "\n",
    "# iterator는 일회용 깡통과 같아서 값을 모두 사용했다면 재사용할 수 없다.\n",
    "# iterator 는 마지막 원소까지 모두 반환했고 \n",
    "# 이후에 next를 통해 강제적으로 반환을 요구하면 내장 예외인 StopIteration이 반환\n",
    "# print(dir(map_obj)) # '__iter__' '__next__'\n",
    "\n",
    "# itor = iter(map_obj)\n",
    "# print(next(itor))\n",
    "# print(next(itor))\n",
    "# print(next(itor))\n",
    "# print(next(itor))\n",
    "\n",
    "# print(next(itor)) # StopIteration 발생\n",
    "\n",
    "out_list = list(map_obj)\n",
    "print(\"결과:\", out_list)\n"
   ]
  },
  {
   "cell_type": "markdown",
   "metadata": {},
   "source": [
    "> Q7\n",
    "``` py\n",
    "    다음 리스트의 최댓값과 최솟값의 합을 구해 보자.\n",
    "    [-8, 2, 7, 5, -3, 5, 0, 1]\n",
    "```"
   ]
  },
  {
   "cell_type": "code",
   "execution_count": 415,
   "metadata": {},
   "outputs": [
    {
     "name": "stdout",
     "output_type": "stream",
     "text": [
      "[-8, -3, 0, 1, 2, 5, 5, 7]\n",
      "최댓값= 7\n",
      "최솟값= -8\n"
     ]
    }
   ],
   "source": [
    "max([-8, 2, 7, 5, -3, 5, 0, 1])\n",
    "min([-8, 2, 7, 5, -3, 5, 0, 1])\n",
    "\n",
    "li = [-8, 2, 7, 5, -3, 5, 0, 1]\n",
    "max(li)\n",
    "min(li)\n",
    "\n",
    "li.sort()\n",
    "print(li)\n",
    "\n",
    "print(\"최댓값=\", li[-1])\n",
    "print(\"최솟값=\", li[0])"
   ]
  },
  {
   "cell_type": "markdown",
   "metadata": {},
   "source": [
    "> Q8\n",
    "``` py\n",
    "    17 / 3의 결과는 다음과 같다.\n",
    "\n",
    "    >>> 17 / 3\n",
    "    5.666666666666667\n",
    "    위와 같은 결괏값 5.666666666666667을 소숫점 4자리까지만 반올림하여 표시해 보자. \n",
    "```"
   ]
  },
  {
   "cell_type": "code",
   "execution_count": 560,
   "metadata": {},
   "outputs": [
    {
     "name": "stdout",
     "output_type": "stream",
     "text": [
      "5.666666666666667\n",
      "fv = 5.6667\n",
      "3.1416\n",
      "pi= 3.1416\n",
      "pi= 3.1415\n"
     ]
    }
   ],
   "source": [
    "print(17 / 3)\n",
    "fv = 17 / 3\n",
    "\n",
    "# 반올림한 소수점 n자릿수 실수 표현\n",
    "fv = round(fv, 4)\n",
    "print(\"fv =\", fv)\n",
    "\n",
    "str_f = '{:0.4f}'.format(3.141592)\n",
    "print(str_f)\n",
    "pi = float(str_f)\n",
    "print(\"pi=\", pi)\n",
    "\n",
    "def get_float(f, n):\n",
    "    return int(f*10**n) / 10**n\n",
    "\n",
    "print(\"pi=\", get_float(3.141592, 4))\n"
   ]
  },
  {
   "cell_type": "markdown",
   "metadata": {},
   "source": [
    "> Q9\n",
    "``` py\n",
    "    다음과 같이 실행할 때 입력값을 모두 더하여 출력하는 스크립트(C:\\doit\\myargv.py)를 작성해 보자.\n",
    "    C:\\> cd doit\n",
    "    C:\\doit> python myargv.py 1 2 3 4 5 6 7 8 9 10\n",
    "    55\n",
    "    ※ 외장 함수 sys.argv를 사용해 보자.\n",
    "```"
   ]
  },
  {
   "cell_type": "code",
   "execution_count": null,
   "metadata": {},
   "outputs": [],
   "source": [
    "import sys\n",
    "\n",
    "# print(sys.argv)\n",
    "# cmd 실행: python myargv.py 1 2 3 4 5\n",
    "# ['myargv.py', '1', '2', '3', '4', '5']\n",
    "\n",
    "li = sys.argv[1:]\n",
    "print(\"li=\", li)\n",
    "\n",
    "li = list(map(int, li))\n",
    "print(\"li=\", li)\n",
    "\n",
    "print(\"입력값의 총합 =\", sum(li))"
   ]
  },
  {
   "cell_type": "markdown",
   "metadata": {},
   "source": [
    "> Q10\n",
    "``` py\n",
    "    os 모듈을 사용하여 다음과 같이 동작하도록 코드를 작성해 보자.\n",
    "\n",
    "    1. C:\\doit 디렉터리로 이동한다.\n",
    "    2. dir 명령을 실행하고 그 결과를 변수에 담는다.\n",
    "    3. dir 명령의 결과를 출력한다.\n",
    "```"
   ]
  },
  {
   "cell_type": "code",
   "execution_count": 564,
   "metadata": {},
   "outputs": [
    {
     "name": "stdout",
     "output_type": "stream",
     "text": [
      "<class 'os._wrap_close'> <os._wrap_close object at 0x00000261F3FBE2F0>\n",
      " C 드라이브의 볼륨에는 이름이 없습니다.\n",
      " 볼륨 일련 번호: E00F-C02B\n",
      "\n",
      " C:\\DevPool\\JumpToPython\\05장 모듈\\doit 디렉터리\n",
      "\n",
      "2022-01-13  오후 03:08    <DIR>          .\n",
      "2022-01-13  오후 03:08    <DIR>          ..\n",
      "2022-01-13  오후 03:18               246 myargv.py\n",
      "               1개 파일                 246 바이트\n",
      "               2개 디렉터리  382,968,410,112 바이트 남음\n",
      "\n"
     ]
    }
   ],
   "source": [
    "import os\n",
    "\n",
    "path = 'C:\\\\DevPool\\\\JumpToPython\\\\05장 모듈\\\\doit'\n",
    "os.chdir(path)\n",
    "\n",
    "# 입출력 파이프를 연결\n",
    "out = os.popen('dir') # 명령어를 문자열로 쉘에 전달\n",
    "print(type(out), out)\n",
    "print(out.read())\n"
   ]
  },
  {
   "cell_type": "markdown",
   "metadata": {},
   "source": [
    "> Q11\n",
    "``` py\n",
    "    glob 모듈을 사용하여 C:\\doit 디렉터리의 파일 중 확장자가 .py인 파일만 출력하는 프로그램을 작성해 보자.\n",
    "```"
   ]
  },
  {
   "cell_type": "code",
   "execution_count": 611,
   "metadata": {},
   "outputs": [
    {
     "name": "stdout",
     "output_type": "stream",
     "text": [
      "['C:\\\\DevPool\\\\JumpToPython\\\\05장 모듈\\\\doit\\\\myargv.py', 'C:\\\\DevPool\\\\JumpToPython\\\\05장 모듈\\\\doit\\\\test.py']\n",
      "bfsvc.exe\n",
      "explorer.exe\n",
      "HelpPane.exe\n",
      "hh.exe\n",
      "ImageSAFERSvc.exe\n",
      "IMGSF50Svc.exe\n",
      "notepad.exe\n",
      "py.exe\n",
      "pyw.exe\n",
      "regedit.exe\n",
      "splwow64.exe\n",
      "uninstallkdf8.exe\n",
      "winhlp32.exe\n",
      "write.exe\n"
     ]
    }
   ],
   "source": [
    "# glob.glob() : 찾고자 하는 파일들을 리스트로 반환\n",
    "from glob import glob\n",
    "\n",
    "glob('*.*')\n",
    "py_list = glob('C:\\\\DevPool\\\\JumpToPython\\\\05장 모듈\\\\doit\\\\*.py')\n",
    "print(py_list)\n",
    "\n",
    "# 상대경로로 파일 목록 가져오기\n",
    "file_list = glob('..\\\\..\\\\..\\\\..\\\\Windows\\\\*.exe')\n",
    "\n",
    "# file_list # ['..\\\\..\\\\..\\\\..\\\\Windows\\\\bfsvc.exe', '',''...]\n",
    "# file_list[1].split('\\\\')[-1] # 'explorer.exe'\n",
    "\n",
    "li = [names.split('\\\\')[-1] for names in file_list]\n",
    "# print(li)\n",
    "for file_name in li:\n",
    "    print(file_name)"
   ]
  },
  {
   "cell_type": "markdown",
   "metadata": {},
   "source": [
    "> Q12\n",
    "``` py\n",
    "    time 모듈을 사용하여 현재 날짜와 시간을 다음과 같은 형식으로 출력해 보자.\n",
    "    2018/04/03 17:20:32\n",
    "```"
   ]
  },
  {
   "cell_type": "code",
   "execution_count": 769,
   "metadata": {},
   "outputs": [
    {
     "name": "stdout",
     "output_type": "stream",
     "text": [
      "<class 'time.struct_time'>\n",
      "2022/1/13 9:22:45\n",
      "\n",
      "Thu Jan 13 18:22:45 2022\n",
      "2022/Jan/13 18:22:45\n",
      "2022/01/13 18:22:45\n",
      "\n",
      "2022-01-13 18:22:45.210277\n",
      "2022/1/13 18:22:45\n"
     ]
    }
   ],
   "source": [
    "import time\n",
    "\n",
    "# 2018/04/03 17:20:32\n",
    "\n",
    "# UTC : 1970.01.01 00:00:00 이후의 누적 초\n",
    "time.time()\n",
    "\n",
    "print(type(time.gmtime()))\n",
    "tt = time.gmtime()\n",
    "print(f\"{tt.tm_year}/{tt.tm_mon}/{tt.tm_mday} {tt.tm_hour}:{tt.tm_min}:{tt.tm_sec}\")\n",
    "\n",
    "print()\n",
    "\n",
    "ttext = time.ctime()\n",
    "print(ttext)\n",
    "print(f\"{ttext[20:]}/{ttext[4:7]}/{ttext[8:10]} {ttext[11:19]}\")\n",
    "\n",
    "current = time.strftime(\"%Y/%m/%d %H:%M:%S\")\n",
    "print(current)\n",
    "print()\n",
    "\n",
    "from datetime import datetime\n",
    "now = datetime.now()\n",
    "print(now)\n",
    "\n",
    "print(f\"{now.year}/{now.month}/{now.day} {now.hour}:{now.minute}:{now.second}\")"
   ]
  },
  {
   "cell_type": "markdown",
   "metadata": {},
   "source": [
    "> Q13\n",
    "``` py\n",
    "    random 모듈을 사용하여 로또 번호(1~45 사이의 숫자 6개)를 생성해 보자(단 중복된 숫자가 있으면 안 됨).\n",
    "```"
   ]
  },
  {
   "cell_type": "code",
   "execution_count": 1026,
   "metadata": {},
   "outputs": [
    {
     "name": "stdout",
     "output_type": "stream",
     "text": [
      "ball:30, lotto:{30}\n",
      "ball:35, lotto:{35, 30}\n",
      "ball:37, lotto:{35, 37, 30}\n",
      "ball:31, lotto:{35, 37, 30, 31}\n",
      "ball:30, lotto:{35, 37, 30, 31}\n",
      "ball:19, lotto:{35, 37, 19, 30, 31}\n",
      "ball:22, lotto:{35, 37, 19, 22, 30, 31}\n",
      "💭\n",
      "lotto복권번호:  {35, 37, 19, 22, 30, 31}\n"
     ]
    }
   ],
   "source": [
    "# 중복 없는 자료형\n",
    "li1 = [1, 2, 3, 1, 3, 2, 4, 5]\n",
    "li2 = {1, 2, 3, 1, 3, 2, 4, 5}\n",
    "\n",
    "# print(\"li1=\", li1, type(li1))\n",
    "# print(\"li2=\", li2, type(li2))\n",
    "# print()\n",
    "\n",
    "# random 모듈\n",
    "from random import random\n",
    "\n",
    "# random() # 0.0 <= random() < 1\n",
    "# number = random() * 45\n",
    "# ball = int(number) + 1 # 1 ~ 45 까지의 랜덤 숫자\n",
    "\n",
    "import time\n",
    "# 비어있는 set 만들기\n",
    "lotto = set()\n",
    "while len(lotto) < 6:\n",
    "    ball = int(random() * 45) + 1\n",
    "    lotto.add(ball)\n",
    "    print(\"ball:{}, lotto:{}\".format(ball, lotto))\n",
    "    time.sleep(1); \n",
    "\n",
    "print('💭')\n",
    "print(\"lotto복권번호: \", lotto)"
   ]
  },
  {
   "cell_type": "code",
   "execution_count": 1052,
   "metadata": {},
   "outputs": [
    {
     "name": "stdout",
     "output_type": "stream",
     "text": [
      "로또번호 생성: [4, 6, 22, 30, 35, 38]\n"
     ]
    }
   ],
   "source": [
    "import random\n",
    "\n",
    "lotto = list()\n",
    "while len(lotto) < 6:\n",
    "    ball = random.randint(1, 45)\n",
    "    if ball not in lotto:\n",
    "        lotto.append(ball)\n",
    "\n",
    "lotto.sort()\n",
    "print(\"로또번호 생성:\", lotto)"
   ]
  },
  {
   "cell_type": "markdown",
   "metadata": {},
   "source": [
    "#### 웹 스크래핑\n",
    "---"
   ]
  },
  {
   "cell_type": "markdown",
   "metadata": {},
   "source": [
    "> 모듈 설치하기"
   ]
  },
  {
   "cell_type": "code",
   "execution_count": null,
   "metadata": {},
   "outputs": [],
   "source": [
    "# [cmd], 터미널(ctrl + `) 에서\n",
    "# pip install 모듈이름\n",
    "\n",
    "# pip install beautifulsoup4"
   ]
  },
  {
   "cell_type": "markdown",
   "metadata": {},
   "source": [
    "> BeautifulSoup 모듈"
   ]
  },
  {
   "cell_type": "code",
   "execution_count": null,
   "metadata": {},
   "outputs": [],
   "source": [
    "# 웹 페이지 분석 모듈\n",
    "# 현재위치와 현재 온도 출력\n",
    "# 네이버 오늘의 날씨(https://weather.naver.com/today)\n",
    "\n",
    "from urllib import request\n",
    "from bs4 import BeautifulSoup\n",
    "\n",
    "target = request.urlopen('https://weather.naver.com/today')\n",
    "soup = BeautifulSoup(target, \"html.parser\")\n",
    "\n",
    "data = soup.find('div', {'class':'location_area'})\n",
    "address = data.find('strong', {'class':'location_name'}).text\n",
    "temp = soup.find('strong', {'class':'current'}).get_text().replace(\"현재 온도\",\"\")\n",
    "\n",
    "print(f\"오늘 {address}의 날씨는 {temp}입니다.\")"
   ]
  }
 ],
 "metadata": {
  "interpreter": {
   "hash": "4aa7a001941c8b447200068b1d71a3924cf04f02fe096f0aa27a7230a4a7f943"
  },
  "kernelspec": {
   "display_name": "Python 3.10.1 64-bit",
   "language": "python",
   "name": "python3"
  },
  "language_info": {
   "name": "python",
   "version": "3.10.1"
  },
  "orig_nbformat": 4
 },
 "nbformat": 4,
 "nbformat_minor": 2
}
