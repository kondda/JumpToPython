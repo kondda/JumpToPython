{
 "cells": [
  {
   "cell_type": "markdown",
   "metadata": {},
   "source": [
    "##### 점프 투 파이썬\n",
    "---\n",
    "02장 연습문제"
   ]
  },
  {
   "cell_type": "markdown",
   "metadata": {},
   "source": [
    "> Q1   \n",
    "``` py\n",
    "    홍길동 씨의 과목별 점수는 다음과 같다. 홍길동 씨의 평균 점수를 구해 보자.\n",
    "\n",
    "    과목\t점수\n",
    "    국어\t80\n",
    "    영어\t75\n",
    "    수학\t55   \n",
    "```"
   ]
  },
  {
   "cell_type": "code",
   "execution_count": 1,
   "metadata": {},
   "outputs": [
    {
     "name": "stdout",
     "output_type": "stream",
     "text": [
      "평균은  70.0 입니다.\n"
     ]
    }
   ],
   "source": [
    "국어 = 80\n",
    "영어 = 75\n",
    "수학 = 55\n",
    "\n",
    "총점 = 국어 + 영어 + 수학\n",
    "평균 = 총점 / 3\n",
    "\n",
    "print(\"평균은 \", 평균, \"입니다.\")"
   ]
  },
  {
   "cell_type": "code",
   "execution_count": 2,
   "metadata": {},
   "outputs": [
    {
     "name": "stdout",
     "output_type": "stream",
     "text": [
      "avg :  70.0\n"
     ]
    }
   ],
   "source": [
    "kor = 80\n",
    "eng = 75\n",
    "math = 55\n",
    "\n",
    "total = kor + eng + math\n",
    "avg = total / 3\n",
    "\n",
    "print(\"avg : \", avg)"
   ]
  },
  {
   "cell_type": "code",
   "execution_count": 3,
   "metadata": {},
   "outputs": [
    {
     "name": "stdout",
     "output_type": "stream",
     "text": [
      "avg : 70.0\n"
     ]
    }
   ],
   "source": [
    "subjects = [80, 75, 55]\n",
    "total = subjects[0] + subjects[1] + subjects[2]\n",
    "avg = total / len(subjects)\n",
    "print(\"avg :\", avg)"
   ]
  },
  {
   "cell_type": "code",
   "execution_count": 4,
   "metadata": {},
   "outputs": [
    {
     "name": "stdout",
     "output_type": "stream",
     "text": [
      "avg : 70.0\n"
     ]
    }
   ],
   "source": [
    "subjects = [80, 75, 55]\n",
    "total = sum(subjects)\n",
    "avg = total / len(subjects)\n",
    "print(\"avg :\", avg)"
   ]
  },
  {
   "cell_type": "code",
   "execution_count": 18,
   "metadata": {},
   "outputs": [
    {
     "name": "stdout",
     "output_type": "stream",
     "text": [
      "avg = 70.0\n"
     ]
    }
   ],
   "source": [
    "subjects = {\"국어\": 80, \"영어\":75, \"수학\":55}\n",
    "total = subjects[\"국어\"] + subjects[\"영어\"] + subjects[\"수학\"]\n",
    "avg = total / len(subjects)\n",
    "print(\"avg =\", avg)"
   ]
  },
  {
   "cell_type": "code",
   "execution_count": 36,
   "metadata": {},
   "outputs": [
    {
     "name": "stdout",
     "output_type": "stream",
     "text": [
      "50 60 70 80\n",
      "['50', '60', '70', '80']\n",
      "avg = 65.0\n"
     ]
    }
   ],
   "source": [
    "# 만약 사용자로 부터 이름과 성적을 입력 받는 경우라면???\n",
    "\n",
    "data = input(\"성적을 입력하세요: \")\n",
    "\n",
    "print(data) # data = '77 55 80 60 50' 문자열 \n",
    "data_list = data.split(' ')\n",
    "print(data_list) # data_list = ['55', '65', '75']\n",
    "\n",
    "total = 0\n",
    "avg = 0.0\n",
    "\n",
    "for i in data_list:\n",
    "    total += int(i)\n",
    "\n",
    "print(\"avg =\", total / len(data_list))\n"
   ]
  },
  {
   "cell_type": "markdown",
   "metadata": {},
   "source": [
    "> Q2\n",
    "``` py\n",
    "    자연수 13이 홀수인지 짝수인지 판별할 수 있는 방법에 대해 말해 보자.\n",
    "```"
   ]
  },
  {
   "cell_type": "code",
   "execution_count": 97,
   "metadata": {},
   "outputs": [
    {
     "name": "stdout",
     "output_type": "stream",
     "text": [
      "530925 (은)는 홀수 입니다.\n"
     ]
    }
   ],
   "source": [
    "# 홀수 = [1, 3, 5, 7, 9]\n",
    "# 홀수문자열 = 숫자의 끝자리가 '13579'\n",
    "# 홀수표현식 = 2n + 1\n",
    "# 짝수표현식 = 2n + 0\n",
    "\n",
    "# Number = 11, 13, 27, 113, 173679467399, .... \n",
    "\n",
    "number = 530925\n",
    "str_num = str(number)\n",
    "\n",
    "# print(type(number))\n",
    "# print(type(str_num))\n",
    "# print(str_num + '1')\n",
    "# print(str_num[0:5+1])\n",
    "# print(str_num[-1])\n",
    "\n",
    "n = str_num[-1]\n",
    "\n",
    "# print(\"n:\", n)\n",
    "# print(n == 7)\n",
    "# print(n == '7')\n",
    "\n",
    "# if n == 1 or n == 3 or n == 5 or n == 7 or n == 9:\n",
    "#     print(number, \"(은)는 홀수 입니다.\")\n",
    "# else:\n",
    "#     print(number, \"(은)는 짝수 입니다.\")\n",
    "\n",
    "if n == '1' or n == '3' or n == '5' or n == '7' or n == '9':\n",
    "    print(number, \"(은)는 홀수 입니다.\")\n",
    "else:\n",
    "    print(number, \"(은)는 짝수 입니다.\")"
   ]
  },
  {
   "cell_type": "code",
   "execution_count": 115,
   "metadata": {},
   "outputs": [
    {
     "name": "stdout",
     "output_type": "stream",
     "text": [
      "1575893450828 (은)는 짝수 입니다.\n"
     ]
    }
   ],
   "source": [
    "# 홀수 = [1, 3, 5, 7, 9]\n",
    "# 홀수문자열 = 숫자의 끝자리가 '13579'\n",
    "# 홀수표현식 = 2n + 1\n",
    "# 짝수표현식 = 2n + 0\n",
    "\n",
    "number = 1575893450828\n",
    "\n",
    "if str(number)[-1] in '13579':\n",
    "    print(number, \"(은)는 홀수 입니다.\")\n",
    "else:\n",
    "    print(number, \"(은)는 짝수 입니다.\")"
   ]
  },
  {
   "cell_type": "code",
   "execution_count": 122,
   "metadata": {},
   "outputs": [
    {
     "name": "stdout",
     "output_type": "stream",
     "text": [
      "68 (은)는 짝수 입니다.\n"
     ]
    }
   ],
   "source": [
    "# 홀수 = [1, 3, 5, 7, 9]\n",
    "# 홀수문자열 = 숫자의 끝자리가 '13579'\n",
    "# 홀수표현식 = 2n + 1\n",
    "# 짝수표현식 = 2n + 0\n",
    "\n",
    "number = 13\n",
    "# number = int(input(\"자연수를 입력하세요: \"))\n",
    "if number % 2 == 1:\n",
    "    print(number, \"(은)는 홀수 입니다.\")\n",
    "else:\n",
    "    print(number, \"(은)는 짝수 입니다.\")"
   ]
  },
  {
   "cell_type": "markdown",
   "metadata": {},
   "source": [
    "> Q3\n",
    "``` py   \n",
    "    홍길동 씨의 주민등록번호는 881120-1068234이다.  \n",
    "    홍길동 씨의 주민등록번호를 연월일(YYYYMMDD) 부분과 그 뒤의 숫자 부분으로 나누어 출력해 보자.\n",
    "```"
   ]
  },
  {
   "cell_type": "markdown",
   "metadata": {},
   "source": [
    "> Q4\n",
    "``` py   \n",
    "    주민등록번호 뒷자리의 맨 첫 번째 숫자는 성별을 나타낸다.    \n",
    "    주민등록번호에서 성별을 나타내는 숫자를 출력해 보자.   \n",
    "```"
   ]
  },
  {
   "cell_type": "code",
   "execution_count": 197,
   "metadata": {},
   "outputs": [
    {
     "name": "stdout",
     "output_type": "stream",
     "text": [
      "태어난 해: 1970 년\n",
      "나이: 53 세\n",
      "남성입니다.\n"
     ]
    }
   ],
   "source": [
    "#     '01234567890123'\n",
    "# pin = '701120-1068234'\n",
    "pin = input(\"주민번호 13자리 입력('-'구분): \")\n",
    "# print(len(pin))\n",
    "# print(pin[-1])\n",
    "# print(pin[-len(pin)])\n",
    "\n",
    "# yyyymmdd = pin[0:5 + 1] # 0 <= x < 5 + 1\n",
    "# 주민번호 앞자리\n",
    "yyyymmdd = pin[:6]\n",
    "# print(\"yyyymmdd =\", yyyymmdd)\n",
    "\n",
    "# sn = pin[7:13 + 1]\n",
    "# 주민번호 뒷자리\n",
    "sn = pin[7:]\n",
    "# print(\"sn =\", sn)\n",
    "\n",
    "# 성별 식별자\n",
    "gender = sn[0] \n",
    "\n",
    "if gender in '12':\n",
    "    year = '19' + yyyymmdd[0:1 + 1]\n",
    "elif gender in '34':\n",
    "    year = '20' + yyyymmdd[0:1 + 1]\n",
    "\n",
    "age = 2022 - int(year) + 1\n",
    "\n",
    "print(\"태어난 해:\", year, \"년\")\n",
    "print(\"나이:\", age, \"세\")\n",
    "\n",
    "if int(gender) % 2 == 0:\n",
    "    print(\"여성입니다.\")\n",
    "else:\n",
    "    print(\"남성입니다.\")\n"
   ]
  },
  {
   "cell_type": "markdown",
   "metadata": {},
   "source": [
    "> Q5\n",
    "``` py\n",
    "    다음과 같은 문자열 a:b:c:d가 있다.    \n",
    "    문자열의 replace 함수를 사용하여 a#b#c#d로 바꿔서 출력해 보자.   \n",
    "```"
   ]
  },
  {
   "cell_type": "code",
   "execution_count": 210,
   "metadata": {},
   "outputs": [
    {
     "name": "stdout",
     "output_type": "stream",
     "text": [
      "a:b:c:d\n",
      "a#b#c#d\n"
     ]
    }
   ],
   "source": [
    "text = \"a:b:c:d\"\n",
    "print(text)\n",
    "\n",
    "# new_text = text[0] + '#' + text[2] + '#' + text[4] + '#' + text[6]\n",
    "# print(new_text)\n",
    "\n",
    "new_text = text.replace(':', '#')\n",
    "print(new_text)"
   ]
  },
  {
   "cell_type": "markdown",
   "metadata": {},
   "source": [
    "> Q6.\n",
    "``` py   \n",
    "    [1, 3, 5, 4, 2]라는 리스트를 [5, 4, 3, 2, 1]로 만들어보자.   \n",
    "```"
   ]
  },
  {
   "cell_type": "code",
   "execution_count": 221,
   "metadata": {},
   "outputs": [
    {
     "name": "stdout",
     "output_type": "stream",
     "text": [
      "[60, 70, 80, 90, 100]\n",
      "[100, 90, 80, 70, 60]\n",
      "최고점은 100점 입니다.\n",
      "최저점은 60점 입니다.\n"
     ]
    }
   ],
   "source": [
    "# 반 학생의 시험 점수를 입력받아 리스트 자료형에 저장\n",
    "# scores = [60, 80, 100, 90, 70]\n",
    "\n",
    "str_scores = input(\"학생들의 점수를 순서대로 입력하세요: \").split()\n",
    "int_scores = [int(i) for i in str_scores]\n",
    "int_scores.sort()\n",
    "print(int_scores) # 리스트 요소를 오름차순으로 정렬\n",
    "int_scores.reverse()\n",
    "print(int_scores)\n",
    "\n",
    "# print(\"최고점은 {}점 입니다.\".format(int_scores[0]))\n",
    "# print(\"최저점은 {}점 입니다.\".format(int_scores[-1]))\n",
    "print(\"최고점은 {}점 입니다.\".format(max(int_scores)))\n",
    "print(\"최저점은 {}점 입니다.\".format(min(int_scores)))\n",
    "# print(str_scores)\n",
    "# print(int_scores)"
   ]
  },
  {
   "cell_type": "markdown",
   "metadata": {},
   "source": [
    "> Q7.\n",
    "``` py   \n",
    "    ['Life', 'is', 'too', 'short'] 라는 리스트를 Life is too short라는 문자열로 만들어 출력해 보자.   \n",
    "```"
   ]
  },
  {
   "cell_type": "code",
   "execution_count": 256,
   "metadata": {},
   "outputs": [
    {
     "name": "stdout",
     "output_type": "stream",
     "text": [
      "Life🎶 is too~~~~~~ short\n"
     ]
    }
   ],
   "source": [
    "li = ['Life', 'is', 'too', 'short']\n",
    "\"Life is too short\"\n",
    "\n",
    "# text = li[0] + ' ' + li[1] + ' ' + li[2] + ' ' + li[3]\n",
    "\n",
    "# text = \"\"\n",
    "# for ch in li:\n",
    "#     text += ch + ' '\n",
    "# print(text)\n",
    "\n",
    "# text = ' '.join(li)\n",
    "# print(text)\n",
    "\n",
    "text = \"{} {} {} {}\".format(li[0], li[1], li[2], li[3])\n",
    "text = f\"{li[0]}... {li[1]} {li[2]}💦 {li[3]}\"\n",
    "text = \"%s🎶 %s %s~~~~~~ %s\" % (li[0], li[1], li[2], li[3])\n",
    "print(text)"
   ]
  },
  {
   "cell_type": "markdown",
   "metadata": {},
   "source": [
    "> Q8.\n",
    "``` py   \n",
    "    (1,2,3)이라는 튜플에 4라는 값을 추가하여 (1,2,3,4)처럼 만들어 출력해 보자.   \n",
    "```"
   ]
  },
  {
   "cell_type": "code",
   "execution_count": 399,
   "metadata": {},
   "outputs": [
    {
     "name": "stdout",
     "output_type": "stream",
     "text": [
      "(1, 2, 3, 4)\n"
     ]
    }
   ],
   "source": [
    "tu = (1, 2, 3)\n",
    "\n",
    "# tu += (4,)\n",
    "# print(tu)\n",
    "\n",
    "new_tu = tuple([1,2,3,4])\n",
    "new_tu = tuple(\"1234\")\n",
    "new_tu = tuple([int(i) for i in \"1234\"])\n",
    "new_tu = tuple(map(int, \"1234\"))\n",
    "print(new_tu)\n",
    "\n",
    "new_tu = tuple(map(lambda i: int(i)**2, \"1234\"))\n"
   ]
  },
  {
   "cell_type": "markdown",
   "metadata": {},
   "source": [
    "> Q9.\n",
    "``` py   \n",
    "    다음과 같은 딕셔너리 a가 있다. 다음 중 오류가 발생하는 경우는 어떤 경우인가?   \n",
    "    그리고 그 이유를 설명해 보자.   \n",
    "    >>> a = dict()   \n",
    "    >>> a   \n",
    "    {}   \n",
    "\n",
    "    다음 중 오류가 발생하는 경우를 고르고, 그 이유를 설명해 보자.   \n",
    "\n",
    "    1. a['name'] = 'python'   \n",
    "    2. a[('a',)] = 'python'   \n",
    "    3. a[[1]] = 'python'   \n",
    "    4. a[250] = 'python'   \n",
    "```"
   ]
  },
  {
   "cell_type": "code",
   "execution_count": null,
   "metadata": {},
   "outputs": [],
   "source": [
    "# 변수(mutable)냐? 상수(immutable)\n",
    "\n",
    "# 딕셔너리의 키 값은 immutable\n",
    "a = dict()\n",
    "\n",
    "a['name'] = 'python' # 키 : 문자열 상수\n",
    "a[('a',)] = 'python' # 키 : 튜플 \n",
    "a[250]    = 'python' # 키 : 리터럴 상수\n",
    "print(a)\n",
    "a[[1,]]   = 'python' # 키 : 리스트 unhashable type -> 해시(객체 식별을 위한 해시함수의 리턴값)값이 변하기 때문"
   ]
  },
  {
   "cell_type": "markdown",
   "metadata": {},
   "source": [
    "> Q10\n",
    "``` py   \n",
    "    딕셔너리 a에서 'B'에 해당되는 값을 추출해 보자.   \n",
    "\n",
    "    >>> a = {'A':90, 'B':80, 'C':70}   \n",
    "    ※ 딕셔너리의 pop 함수를 사용해 보자.   \n",
    "```"
   ]
  },
  {
   "cell_type": "code",
   "execution_count": 431,
   "metadata": {},
   "outputs": [
    {
     "name": "stdout",
     "output_type": "stream",
     "text": [
      "80\n",
      "a = {'A': 90, 'B': 80, 'C': 70}\n",
      "80\n",
      "a = {'A': 90, 'C': 70}\n"
     ]
    }
   ],
   "source": [
    "a = {'A':90, 'B':80, 'C':70}\n",
    "\n",
    "# value = a['B']\n",
    "# print(\"B :\", value)\n",
    "\n",
    "value = a.get('B')\n",
    "print(value)\n",
    "print(\"a =\", a)\n",
    "\n",
    "value = a.pop('B')\n",
    "print(value)\n",
    "print(\"a =\", a)"
   ]
  },
  {
   "cell_type": "markdown",
   "metadata": {},
   "source": [
    "> Q11\n",
    "``` py   \n",
    "    a 리스트에서 중복 숫자를 제거해 보자.   \n",
    "\n",
    "    >>> a = [1, 1, 1, 2, 2, 3, 3, 3, 4, 4, 5]    \n",
    "    ※ 집합 자료형의 요솟값이 중복될 수 없다는 특징을 사용해 보자.    \n",
    "```"
   ]
  },
  {
   "cell_type": "code",
   "execution_count": 459,
   "metadata": {},
   "outputs": [
    {
     "name": "stdout",
     "output_type": "stream",
     "text": [
      "li = [1, 2, 3, 4, 5]\n",
      "a  = [1, 2, 3, 4, 5]\n"
     ]
    }
   ],
   "source": [
    "s = {1, 2, 1, 2, 1, 2}\n",
    "# print(s)\n",
    "\n",
    "# 좋아하는 음식을 여러 사람들에게 입력받아 저장하는 경우\n",
    "\n",
    "# 리스트 자료형\n",
    "# list_foods = [\"김치\", \"햄버거\", \"떡볶이\", \"김치\", \"라면\", \"닭발\", \"라면\", \"짬뽕\", \"라면\"]\n",
    "# print(list_foods)\n",
    "\n",
    "# 셋 자료형\n",
    "# set_foods  = {\"김치\", \"햄버거\", \"떡볶이\", \"김치\", \"라면\", \"닭발\", \"라면\", \"짬뽕\", \"라면\"}\n",
    "# print(set_foods)\n",
    "\n",
    "a = [1, 1, 1, 2, 2, 3, 3, 3, 4, 4, 5]\n",
    "\n",
    "# print(a)\n",
    "# print(set(a))\n",
    "# a = list(set(a))\n",
    "# print(a)\n",
    "\n",
    "li = []\n",
    "for i in a:\n",
    "    if i not in li:\n",
    "        li.append(i)\n",
    "print(\"li = {}\".format(li))\n",
    "\n",
    "a = li\n",
    "print(\"a  = {}\".format(a))"
   ]
  },
  {
   "cell_type": "markdown",
   "metadata": {},
   "source": [
    "> Q12\n",
    "``` py   \n",
    "    파이썬은 다음처럼 동일한 값에 여러 개의 변수를 선언할 수 있다.    \n",
    "    다음과 같이 a, b 변수를 선언한 후 a의 두 번째 요솟값을 변경하면 b 값은 어떻게 될까?    \n",
    "    그리고 이런 결과가 오는 이유에 대해 설명해 보자.   \n",
    "\n",
    "    >>> a = b = [1, 2, 3]   \n",
    "    >>> a[1] = 4   \n",
    "    >>> print(b)   \n",
    "```"
   ]
  },
  {
   "cell_type": "code",
   "execution_count": 488,
   "metadata": {},
   "outputs": [
    {
     "name": "stdout",
     "output_type": "stream",
     "text": [
      "b = 0x23c68803240\n",
      "a = 0x23c68803240\n",
      "[1, 4, 3]\n"
     ]
    }
   ],
   "source": [
    "b = [1, 2, 3]\n",
    "print('b =', hex(id(b)))\n",
    "\n",
    "a = b\n",
    "print('a =', hex(id(a)))\n",
    "\n",
    "\n",
    "a[1] = 4\n",
    "print(b)\n",
    "\n",
    "# (참조)변수 = 참조값(객체의 주소)을 저장\n",
    "# b변수의 참조값을 a변수에 할당했으므로 같은 객체를 가리키고 있다."
   ]
  }
 ],
 "metadata": {
  "interpreter": {
   "hash": "4aa7a001941c8b447200068b1d71a3924cf04f02fe096f0aa27a7230a4a7f943"
  },
  "kernelspec": {
   "display_name": "Python 3.10.1 64-bit",
   "language": "python",
   "name": "python3"
  },
  "language_info": {
   "codemirror_mode": {
    "name": "ipython",
    "version": 3
   },
   "file_extension": ".py",
   "mimetype": "text/x-python",
   "name": "python",
   "nbconvert_exporter": "python",
   "pygments_lexer": "ipython3",
   "version": "3.10.1"
  },
  "orig_nbformat": 4
 },
 "nbformat": 4,
 "nbformat_minor": 2
}
